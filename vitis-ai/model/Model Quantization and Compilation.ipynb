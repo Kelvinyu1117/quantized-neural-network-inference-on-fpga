{
 "cells": [
  {
   "cell_type": "code",
   "execution_count": 1,
   "metadata": {},
   "outputs": [
    {
     "name": "stdout",
     "output_type": "stream",
     "text": [
      "No CUDA runtime is found, using CUDA_HOME='/usr/local/cuda'\n",
      "\n",
      "\u001b[0;32m[NNDCT_NOTE]: Loading NNDCT kernels...\u001b[0m\n"
     ]
    }
   ],
   "source": [
    "import resnet\n",
    "import utils\n",
    "from pytorch_nndct.apis import torch_quantizer, dump_xmodel"
   ]
  },
  {
   "cell_type": "code",
   "execution_count": 2,
   "metadata": {},
   "outputs": [],
   "source": [
    "import torch\n",
    "import torchvision\n",
    "import torchvision.transforms as transforms\n",
    "import torch.optim as optim\n",
    "import torch.nn as nn\n",
    "import torch.nn.functional as F\n",
    "from torch.utils.data import random_split\n",
    "\n",
    "device = torch.device(\"cuda\" if torch.cuda.is_available() else \"cpu\")\n",
    "\n",
    "def load_data(batch_size, calib_size):\n",
    "    # load the data\n",
    "    train_transform = transforms.Compose(\n",
    "        [\n",
    "         transforms.RandomCrop(32, padding=4),\n",
    "         transforms.RandomHorizontalFlip(),\n",
    "         transforms.ToTensor(),\n",
    "         transforms.Normalize((0.49139968, 0.48215841, 0.44653091), (0.24703223, 0.24348513, 0.26158784))])\n",
    "\n",
    "    test_transform = transforms.Compose(\n",
    "        [\n",
    "         transforms.ToTensor(),\n",
    "         transforms.Normalize((0.49139968, 0.48215841, 0.44653091), (0.24703223, 0.24348513, 0.26158784))])\n",
    "\n",
    "    ds = torchvision.datasets.CIFAR10(root='./data', train=True,\n",
    "                                            download=True, transform=train_transform)\n",
    "\n",
    "\n",
    "    test_ds = torchvision.datasets.CIFAR10(root='./data', train=False,\n",
    "                                           download=True, transform=test_transform)\n",
    "\n",
    "    # split the training set and validation set\n",
    "    torch.manual_seed(50)\n",
    "    test_size = len(test_ds)\n",
    "    val_size = 2000\n",
    "    train_size = len(ds) - val_size - calib_size\n",
    "\n",
    "\n",
    "\n",
    "    train_ds, val_ds, calib_ds = random_split(ds, [train_size, val_size, calib_size])\n",
    "    \n",
    "    calib_loader = torch.utils.data.DataLoader(calib_ds, batch_size=batch_size, shuffle=True, num_workers=4)\n",
    "\n",
    "    train_loader = torch.utils.data.DataLoader(train_ds, batch_size=batch_size, shuffle=True, num_workers=4)\n",
    "\n",
    "    val_loader = torch.utils.data.DataLoader(val_ds, batch_size=batch_size, shuffle=False, num_workers=4)\n",
    "\n",
    "    test_loader = torch.utils.data.DataLoader(test_ds, batch_size=batch_size, shuffle=False, num_workers=4)\n",
    "    \n",
    "    return train_loader, val_loader, test_loader, calib_loader"
   ]
  },
  {
   "cell_type": "code",
   "execution_count": 3,
   "metadata": {},
   "outputs": [],
   "source": [
    "checkpoint = torch.load('resnet20-vitis-e100.pth', map_location=torch.device('cpu'))"
   ]
  },
  {
   "cell_type": "code",
   "execution_count": 4,
   "metadata": {},
   "outputs": [
    {
     "data": {
      "text/plain": [
       "<All keys matched successfully>"
      ]
     },
     "execution_count": 4,
     "metadata": {},
     "output_type": "execute_result"
    }
   ],
   "source": [
    "model = resnet.resnet20().cpu()\n",
    "model.load_state_dict(checkpoint['state_dict'])"
   ]
  },
  {
   "cell_type": "code",
   "execution_count": 5,
   "metadata": {},
   "outputs": [],
   "source": [
    "def quant_and_evaluate(model, quant_mode, deploy=False):\n",
    "    batch_size = 128\n",
    "    calib_size = 1024\n",
    "    if(deploy):\n",
    "        batch_size = 1\n",
    "        \n",
    "    if(quant_mode == 'test'):\n",
    "        calib_size = 1\n",
    "    elif(quant_mode == 'calib'):\n",
    "        calib_size = 1024\n",
    "    \n",
    "    quant_model = model\n",
    "    print(f'batch_size: ${batch_size}, calib_size: ${calib_size}')\n",
    "    if(quant_mode != 'float'):\n",
    "        tmp_input = torch.randn([batch_size, 3, 32, 32])\n",
    "        quantizer = torch_quantizer(quant_mode, model, (tmp_input), device=device, bitwidth=8)\n",
    "        quant_model = quantizer.quant_model\n",
    "    \n",
    "    loss_fn = torch.nn.CrossEntropyLoss().to(device)\n",
    "    train_loader, val_loader, test_loader, calib_loader = load_data(batch_size, calib_size)\n",
    "    \n",
    "    \n",
    "    if quant_mode == 'calib':\n",
    "        quantizer.fast_finetune(utils.evaluate, (quant_model, calib_loader, loss_fn))\n",
    "    elif quant_mode == 'test':\n",
    "        quantizer.load_ft_param()\n",
    "    \n",
    "    acc1_gen, acc5_gen, loss_gen = utils.evaluate(quant_model, test_loader, loss_fn)\n",
    "\n",
    "    print('loss: %g' % (loss_gen))\n",
    "    print('top-1 / top-5 accuracy: %g / %g' % (acc1_gen, acc5_gen))\n",
    "    \n",
    "    if quant_mode == 'calib':\n",
    "        quantizer.export_quant_config()\n",
    "    if deploy:\n",
    "        quantizer.export_xmodel(deploy_check=False)\n"
   ]
  },
  {
   "cell_type": "code",
   "execution_count": 6,
   "metadata": {
    "scrolled": true
   },
   "outputs": [
    {
     "name": "stdout",
     "output_type": "stream",
     "text": [
      "batch_size: $128, calib_size: $1024\n",
      "Files already downloaded and verified\n",
      "Files already downloaded and verified\n"
     ]
    },
    {
     "name": "stderr",
     "output_type": "stream",
     "text": [
      "100%|██████████| 79/79 [00:04<00:00, 16.63it/s]"
     ]
    },
    {
     "name": "stdout",
     "output_type": "stream",
     "text": [
      "loss: 0.00283016\n",
      "top-1 / top-5 accuracy: 90.75 / 99.7\n"
     ]
    },
    {
     "name": "stderr",
     "output_type": "stream",
     "text": [
      "\n"
     ]
    }
   ],
   "source": [
    "quant_and_evaluate(model, 'float', False)"
   ]
  },
  {
   "cell_type": "code",
   "execution_count": 7,
   "metadata": {},
   "outputs": [
    {
     "name": "stdout",
     "output_type": "stream",
     "text": [
      "batch_size: $128, calib_size: $1024\n",
      "\n",
      "\u001b[0;32m[NNDCT_NOTE]: Quantization calibration process start up...\u001b[0m\n",
      "\n",
      "\u001b[0;32m[NNDCT_NOTE]: =>Quant Module is in 'cpu'.\u001b[0m\n",
      "\n",
      "\u001b[0;32m[NNDCT_NOTE]: =>Parsing CifarResNet...\u001b[0m\n"
     ]
    },
    {
     "name": "stderr",
     "output_type": "stream",
     "text": [
      "/workspace/experiment/kelvin-wu/vitis-ai/model/resnet.py:96: TracerWarning: Converting a tensor to a Python number might cause the trace to be incorrect. We can't record the data flow of Python values, so this value will be treated as a constant in the future. This means that the trace might not generalize to other inputs!\n",
      "  out = nn.functional.avg_pool2d(out, out.size()[3].item())\n"
     ]
    },
    {
     "name": "stdout",
     "output_type": "stream",
     "text": [
      "\n",
      "\u001b[0;32m[NNDCT_NOTE]: =>Doing weights equalization...\u001b[0m\n",
      "\n",
      "\u001b[0;32m[NNDCT_NOTE]: =>Quantizable module is generated.(quantize_result/CifarResNet.py)\u001b[0m\n",
      "\n",
      "\u001b[0;32m[NNDCT_NOTE]: =>Get module with quantization.\u001b[0m\n",
      "Files already downloaded and verified\n",
      "Files already downloaded and verified\n",
      "\n",
      "\u001b[0;32m[NNDCT_NOTE]: =>Finetuning module parameters for better quantization accuracy... \u001b[0m\n"
     ]
    },
    {
     "name": "stderr",
     "output_type": "stream",
     "text": [
      "100%|██████████| 8/8 [00:00<00:00, 17.53it/s]\n",
      "100%|██████████| 8/8 [00:26<00:00,  3.26s/it]\n"
     ]
    },
    {
     "name": "stdout",
     "output_type": "stream",
     "text": [
      "\n",
      "\u001b[0;32m[NNDCT_NOTE]: =>Exporting quant model parameters.(quantize_result/param.pth)\u001b[0m\n"
     ]
    },
    {
     "name": "stderr",
     "output_type": "stream",
     "text": [
      "100%|██████████| 79/79 [04:10<00:00,  3.17s/it]"
     ]
    },
    {
     "name": "stdout",
     "output_type": "stream",
     "text": [
      "loss: 0.00285211\n",
      "top-1 / top-5 accuracy: 90.62 / 99.67\n",
      "\n",
      "\u001b[0;32m[NNDCT_NOTE]: =>Exporting quant config.(quantize_result/quant_info.json)\u001b[0m\n"
     ]
    },
    {
     "name": "stderr",
     "output_type": "stream",
     "text": [
      "\n"
     ]
    }
   ],
   "source": [
    "quant_and_evaluate(model, 'calib', False)"
   ]
  },
  {
   "cell_type": "code",
   "execution_count": 8,
   "metadata": {},
   "outputs": [
    {
     "name": "stdout",
     "output_type": "stream",
     "text": [
      "batch_size: $1, calib_size: $1\n",
      "\n",
      "\u001b[0;32m[NNDCT_NOTE]: Quantization test process start up...\u001b[0m\n",
      "\n",
      "\u001b[0;32m[NNDCT_NOTE]: =>Quant Module is in 'cpu'.\u001b[0m\n",
      "\n",
      "\u001b[0;32m[NNDCT_NOTE]: =>Parsing CifarResNet...\u001b[0m\n",
      "\n",
      "\u001b[0;32m[NNDCT_NOTE]: =>Doing weights equalization...\u001b[0m\n",
      "\n",
      "\u001b[0;32m[NNDCT_NOTE]: =>Quantizable module is generated.(quantize_result/CifarResNet.py)\u001b[0m\n",
      "\n",
      "\u001b[0;32m[NNDCT_NOTE]: =>Get module with quantization.\u001b[0m\n",
      "Files already downloaded and verified\n",
      "Files already downloaded and verified\n",
      "\n",
      "\u001b[0;32m[NNDCT_NOTE]: =>Loading quant model parameters.(quantize_result/param.pth)\u001b[0m\n"
     ]
    },
    {
     "name": "stderr",
     "output_type": "stream",
     "text": [
      "100%|██████████| 10000/10000 [01:08<00:00, 145.62it/s]"
     ]
    },
    {
     "name": "stdout",
     "output_type": "stream",
     "text": [
      "loss: 0.359618\n",
      "top-1 / top-5 accuracy: 90.51 / 99.67\n",
      "\n",
      "\u001b[0;32m[NNDCT_NOTE]: =>Converting to xmodel ...\u001b[0m\n"
     ]
    },
    {
     "name": "stderr",
     "output_type": "stream",
     "text": [
      "\n"
     ]
    },
    {
     "name": "stdout",
     "output_type": "stream",
     "text": [
      "\n",
      "\u001b[0;32m[NNDCT_NOTE]: =>Successfully convert 'CifarResNet' to xmodel.(quantize_result/CifarResNet_int.xmodel)\u001b[0m\n"
     ]
    }
   ],
   "source": [
    "quant_and_evaluate(model, 'test', True)"
   ]
  },
  {
   "cell_type": "code",
   "execution_count": null,
   "metadata": {},
   "outputs": [],
   "source": []
  },
  {
   "cell_type": "code",
   "execution_count": null,
   "metadata": {},
   "outputs": [],
   "source": []
  },
  {
   "cell_type": "code",
   "execution_count": null,
   "metadata": {},
   "outputs": [],
   "source": []
  },
  {
   "cell_type": "code",
   "execution_count": null,
   "metadata": {},
   "outputs": [],
   "source": []
  },
  {
   "cell_type": "code",
   "execution_count": null,
   "metadata": {},
   "outputs": [],
   "source": []
  }
 ],
 "metadata": {
  "kernelspec": {
   "display_name": "Python 3",
   "language": "python",
   "name": "python3"
  },
  "language_info": {
   "codemirror_mode": {
    "name": "ipython",
    "version": 3
   },
   "file_extension": ".py",
   "mimetype": "text/x-python",
   "name": "python",
   "nbconvert_exporter": "python",
   "pygments_lexer": "ipython3",
   "version": "3.6.12"
  }
 },
 "nbformat": 4,
 "nbformat_minor": 4
}
